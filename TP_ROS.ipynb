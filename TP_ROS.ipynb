{
 "cells": [
  {
   "cell_type": "code",
   "execution_count": 2,
   "metadata": {},
   "outputs": [],
   "source": [
    "import math\n",
    "import random #used for the random choice of a strategy\n",
    "import sys\n",
    "import numpy as np\n",
    "import time\n",
    "from collections import defaultdict"
   ]
  },
  {
   "cell_type": "code",
   "execution_count": 3,
   "metadata": {},
   "outputs": [
    {
     "name": "stdout",
     "output_type": "stream",
     "text": [
      "2.0\n",
      "1\n"
     ]
    }
   ],
   "source": [
    "beta = 1\n",
    "nbCh = 2\n",
    "Q = defaultdict(int)\n",
    "S_t = 1\n",
    "\n",
    "\n",
    "r = np.random.random()\n",
    "\n",
    "Z = sum(np.exp(beta*Q[(S_t, a)]) for a in range(nbCh))\n",
    "\n",
    "print(Z)\n",
    "\n",
    "cum_probas = np.zeros(nbCh+1)\n",
    "cum_probas[1:] = np.array([np.exp(beta*Q[(S_t, a)])/Z for a in range(nbCh)]).cumsum()\n",
    "\n",
    "draw = -1\n",
    "\n",
    "\n",
    "for i in range(nbCh+1):\n",
    "    if cum_probas[i] < r <= cum_probas[i+1]:\n",
    "        draw = i\n",
    "        break\n",
    "print(draw)"
   ]
  },
  {
   "cell_type": "code",
   "execution_count": 4,
   "metadata": {},
   "outputs": [
    {
     "data": {
      "text/plain": [
       "array([ 0.,  1.,  1.,  1.])"
      ]
     },
     "execution_count": 4,
     "metadata": {},
     "output_type": "execute_result"
    }
   ],
   "source": [
    "np.concatenate((np.zeros(1), np.ones(3)))"
   ]
  },
  {
   "cell_type": "code",
   "execution_count": 5,
   "metadata": {},
   "outputs": [
    {
     "name": "stdout",
     "output_type": "stream",
     "text": [
      "Writing complete\n"
     ]
    }
   ],
   "source": [
    "import csv\n",
    " \n",
    "myData = [[\"first_name\", \"second_name\", \"Grade\"],\n",
    "          ['Alex', 'Brian', 1],\n",
    "          ['Tom']]\n",
    " \n",
    "with open('example2.csv', 'w') as f:\n",
    "    csv.writer(f).writerows(myData)\n",
    "     \n",
    "print(\"Writing complete\")"
   ]
  },
  {
   "cell_type": "code",
   "execution_count": null,
   "metadata": {},
   "outputs": [],
   "source": []
  },
  {
   "cell_type": "code",
   "execution_count": null,
   "metadata": {},
   "outputs": [],
   "source": []
  },
  {
   "cell_type": "code",
   "execution_count": 6,
   "metadata": {},
   "outputs": [
    {
     "data": {
      "text/plain": [
       "47.56"
      ]
     },
     "execution_count": 6,
     "metadata": {},
     "output_type": "execute_result"
    }
   ],
   "source": [
    "def truncate(f):\n",
    "    return float(format(f, '.2f').rstrip('0').rstrip('.'))\n",
    "\n",
    "float(truncate(47.560000000000002))"
   ]
  },
  {
   "cell_type": "code",
   "execution_count": 7,
   "metadata": {},
   "outputs": [],
   "source": [
    "import csv\n",
    "\n",
    "Q = defaultdict(int)\n",
    "\n",
    "Q[('0107', 0)] = 10\n",
    "Q[('0107', 1)] = 11\n",
    "\n",
    "Q[('1110', 0)] = 1\n",
    "Q[('1110', 1)] = 2\n",
    "\n",
    "Q[('1117', 0)] = 3\n",
    "Q[('1117', 1)] = 4\n",
    "\n",
    "Q[('0000', 0)] = 5\n",
    "Q[('0000', 1)] = 6\n",
    "\n",
    "Q[('0007', 0)] = 7\n",
    "Q[('0007', 1)] = 8"
   ]
  },
  {
   "cell_type": "code",
   "execution_count": null,
   "metadata": {},
   "outputs": [],
   "source": []
  },
  {
   "cell_type": "code",
   "execution_count": 8,
   "metadata": {
    "scrolled": true
   },
   "outputs": [],
   "source": [
    "nbCh = 2\n",
    "\n",
    "\n",
    "from collections import OrderedDict\n",
    "\n",
    "keys = list(OrderedDict.fromkeys(['1110', '1117', '0000', '0007']+[state for state, _ in Q.keys()]))\n",
    "\n",
    "with open('dict.csv', 'w') as f:\n",
    "    writer = csv.writer(f)\n",
    "    writer.writerow([\"State\", \"Wall follower\", \"Guidance\"])\n",
    "    for key in keys:\n",
    "        writer.writerow([key]+ [Q[(key, i)] for i in range(nbCh)])"
   ]
  },
  {
   "cell_type": "code",
   "execution_count": 9,
   "metadata": {},
   "outputs": [
    {
     "data": {
      "text/plain": [
       "'4751549'"
      ]
     },
     "execution_count": 9,
     "metadata": {},
     "output_type": "execute_result"
    }
   ],
   "source": [
    "'1524751549'[3:]"
   ]
  },
  {
   "cell_type": "code",
   "execution_count": 10,
   "metadata": {},
   "outputs": [
    {
     "data": {
      "text/plain": [
       "array([ 1.,  1.,  1.,  1.,  1.,  1.,  1.,  1.,  1.,  1.])"
      ]
     },
     "execution_count": 10,
     "metadata": {},
     "output_type": "execute_result"
    }
   ],
   "source": [
    "trialDuration = np.ones(30)\n",
    "trialDuration[-10:]"
   ]
  },
  {
   "cell_type": "code",
   "execution_count": 11,
   "metadata": {},
   "outputs": [
    {
     "data": {
      "text/plain": [
       "'/home/viki/catkin_ws/src/navigation_strategies/33_Stats_'"
      ]
     },
     "execution_count": 11,
     "metadata": {},
     "output_type": "execute_result"
    }
   ],
   "source": [
    "'/home/viki/catkin_ws/src/navigation_strategies/'+str(int(30333.33333))[3:]+'_Stats_'"
   ]
  },
  {
   "cell_type": "code",
   "execution_count": 15,
   "metadata": {},
   "outputs": [
    {
     "name": "stdout",
     "output_type": "stream",
     "text": [
      "[  0.00000000e+00   3.35350130e-04   1.00000000e+00]\n"
     ]
    },
    {
     "data": {
      "text/plain": [
       "1"
      ]
     },
     "execution_count": 15,
     "metadata": {},
     "output_type": "execute_result"
    }
   ],
   "source": [
    "Q = defaultdict(int)\n",
    "\n",
    "Q[('0107', 0)] = 10\n",
    "Q[('0107', 1)] = 11\n",
    "\n",
    "Q[('1110', 0)] = 1\n",
    "Q[('1110', 1)] = 2\n",
    "\n",
    "Q[('1117', 0)] = 3\n",
    "Q[('1117', 1)] = 4\n",
    "\n",
    "Q[('0000', 0)] = 5\n",
    "Q[('0000', 1)] = 6\n",
    "\n",
    "Q[('0007', 0)] = 7\n",
    "Q[('0007', 1)] = 8\n",
    "\n",
    "nbCh = 2\n",
    "\n",
    "def draw_proba(Q, S, beta=8):\n",
    "    # draw an action according according\n",
    "    # to the softmax policy\n",
    "    r = np.random.random()\n",
    "\n",
    "    Z = sum(np.exp(beta*Q[(S, a)]) for a in range(nbCh))\n",
    "    cum_probas = np.zeros(nbCh+1)\n",
    "    cum_probas[1:] = np.array([np.exp(beta*Q[(S, a)])/Z for a in range(nbCh)]).cumsum()\n",
    "    \n",
    "    print(cum_probas)\n",
    "    for i in range(nbCh+1):\n",
    "        if cum_probas[i] < r <= cum_probas[i+1]:\n",
    "            return i\n",
    "\n",
    "draw_proba(Q, '0000')"
   ]
  },
  {
   "cell_type": "code",
   "execution_count": null,
   "metadata": {},
   "outputs": [],
   "source": []
  },
  {
   "cell_type": "code",
   "execution_count": null,
   "metadata": {},
   "outputs": [],
   "source": []
  }
 ],
 "metadata": {
  "kernelspec": {
   "display_name": "Python 3",
   "language": "python",
   "name": "python3"
  },
  "language_info": {
   "codemirror_mode": {
    "name": "ipython",
    "version": 3
   },
   "file_extension": ".py",
   "mimetype": "text/x-python",
   "name": "python",
   "nbconvert_exporter": "python",
   "pygments_lexer": "ipython3",
   "version": "3.6.3"
  }
 },
 "nbformat": 4,
 "nbformat_minor": 2
}
